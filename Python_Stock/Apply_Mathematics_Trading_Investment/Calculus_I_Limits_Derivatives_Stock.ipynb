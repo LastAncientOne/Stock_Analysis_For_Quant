{
  "cells": [
    {
      "cell_type": "markdown",
      "source": [
        "# Calculus I: Limits & Derivatives"
      ],
      "metadata": {
        "nteract": {
          "transient": {
            "deleting": false
          }
        }
      }
    },
    {
      "cell_type": "markdown",
      "source": [
        "### Calculus I: Limits & Derivatives, introduces the mathematical field of calculus\n",
        "\n",
        "### Apply Stock Data to Calculus"
      ],
      "metadata": {
        "nteract": {
          "transient": {
            "deleting": false
          }
        }
      }
    },
    {
      "cell_type": "code",
      "source": [
        "import numpy as np\n",
        "\n",
        "import matplotlib.pyplot as plt\n",
        "\n",
        "import warnings\n",
        "warnings.filterwarnings(\"ignore\") \n",
        "\n",
        "# yfinance is used to fetch data \n",
        "import yfinance as yf\n",
        "yf.pdr_override()"
      ],
      "outputs": [],
      "execution_count": 1,
      "metadata": {
        "collapsed": true,
        "jupyter": {
          "source_hidden": false,
          "outputs_hidden": false
        },
        "nteract": {
          "transient": {
            "deleting": false
          }
        },
        "execution": {
          "iopub.status.busy": "2022-05-28T01:14:28.503Z",
          "iopub.execute_input": "2022-05-28T01:14:28.509Z",
          "iopub.status.idle": "2022-05-28T01:14:28.515Z",
          "shell.execute_reply": "2022-05-28T01:14:28.464Z"
        }
      }
    },
    {
      "cell_type": "code",
      "source": [
        "symbol = 'AMD'\n",
        "\n",
        "start = '2018-01-01'\n",
        "end = '2019-01-01'\n",
        "\n",
        "# Read data \n",
        "dataset = yf.download(symbol,start,end)\n",
        "\n",
        "# View Columns\n",
        "dataset.head()"
      ],
      "outputs": [
        {
          "output_type": "stream",
          "name": "stdout",
          "text": [
            "[*********************100%***********************]  1 of 1 completed\n"
          ]
        },
        {
          "output_type": "execute_result",
          "execution_count": 2,
          "data": {
            "text/plain": "             Open   High    Low  Close  Adj Close     Volume\nDate                                                        \n2018-01-02  10.42  11.02  10.34  10.98      10.98   44146300\n2018-01-03  11.61  12.14  11.36  11.55      11.55  154066700\n2018-01-04  12.10  12.43  11.97  12.12      12.12  109503000\n2018-01-05  12.19  12.22  11.66  11.88      11.88   63808900\n2018-01-08  12.01  12.30  11.85  12.28      12.28   63346000",
            "text/html": "<div>\n<style scoped>\n    .dataframe tbody tr th:only-of-type {\n        vertical-align: middle;\n    }\n\n    .dataframe tbody tr th {\n        vertical-align: top;\n    }\n\n    .dataframe thead th {\n        text-align: right;\n    }\n</style>\n<table border=\"1\" class=\"dataframe\">\n  <thead>\n    <tr style=\"text-align: right;\">\n      <th></th>\n      <th>Open</th>\n      <th>High</th>\n      <th>Low</th>\n      <th>Close</th>\n      <th>Adj Close</th>\n      <th>Volume</th>\n    </tr>\n    <tr>\n      <th>Date</th>\n      <th></th>\n      <th></th>\n      <th></th>\n      <th></th>\n      <th></th>\n      <th></th>\n    </tr>\n  </thead>\n  <tbody>\n    <tr>\n      <th>2018-01-02</th>\n      <td>10.42</td>\n      <td>11.02</td>\n      <td>10.34</td>\n      <td>10.98</td>\n      <td>10.98</td>\n      <td>44146300</td>\n    </tr>\n    <tr>\n      <th>2018-01-03</th>\n      <td>11.61</td>\n      <td>12.14</td>\n      <td>11.36</td>\n      <td>11.55</td>\n      <td>11.55</td>\n      <td>154066700</td>\n    </tr>\n    <tr>\n      <th>2018-01-04</th>\n      <td>12.10</td>\n      <td>12.43</td>\n      <td>11.97</td>\n      <td>12.12</td>\n      <td>12.12</td>\n      <td>109503000</td>\n    </tr>\n    <tr>\n      <th>2018-01-05</th>\n      <td>12.19</td>\n      <td>12.22</td>\n      <td>11.66</td>\n      <td>11.88</td>\n      <td>11.88</td>\n      <td>63808900</td>\n    </tr>\n    <tr>\n      <th>2018-01-08</th>\n      <td>12.01</td>\n      <td>12.30</td>\n      <td>11.85</td>\n      <td>12.28</td>\n      <td>12.28</td>\n      <td>63346000</td>\n    </tr>\n  </tbody>\n</table>\n</div>"
          },
          "metadata": {}
        }
      ],
      "execution_count": 2,
      "metadata": {
        "collapsed": true,
        "jupyter": {
          "source_hidden": false,
          "outputs_hidden": false
        },
        "nteract": {
          "transient": {
            "deleting": false
          }
        },
        "execution": {
          "iopub.status.busy": "2022-05-28T01:14:28.522Z",
          "iopub.execute_input": "2022-05-28T01:14:28.527Z",
          "iopub.status.idle": "2022-05-28T01:14:28.628Z",
          "shell.execute_reply": "2022-05-28T01:14:28.739Z"
        }
      }
    },
    {
      "cell_type": "code",
      "source": [
        "dataset['Returns'] = dataset['Adj Close'].pct_change() \n",
        "dataset = dataset.dropna()\n",
        "dataset.head()"
      ],
      "outputs": [
        {
          "output_type": "execute_result",
          "execution_count": 3,
          "data": {
            "text/plain": "             Open   High    Low  Close  Adj Close     Volume   Returns\nDate                                                                  \n2018-01-03  11.61  12.14  11.36  11.55      11.55  154066700  0.051913\n2018-01-04  12.10  12.43  11.97  12.12      12.12  109503000  0.049351\n2018-01-05  12.19  12.22  11.66  11.88      11.88   63808900 -0.019802\n2018-01-08  12.01  12.30  11.85  12.28      12.28   63346000  0.033670\n2018-01-09  12.00  12.02  11.71  11.82      11.82   62560900 -0.037459",
            "text/html": "<div>\n<style scoped>\n    .dataframe tbody tr th:only-of-type {\n        vertical-align: middle;\n    }\n\n    .dataframe tbody tr th {\n        vertical-align: top;\n    }\n\n    .dataframe thead th {\n        text-align: right;\n    }\n</style>\n<table border=\"1\" class=\"dataframe\">\n  <thead>\n    <tr style=\"text-align: right;\">\n      <th></th>\n      <th>Open</th>\n      <th>High</th>\n      <th>Low</th>\n      <th>Close</th>\n      <th>Adj Close</th>\n      <th>Volume</th>\n      <th>Returns</th>\n    </tr>\n    <tr>\n      <th>Date</th>\n      <th></th>\n      <th></th>\n      <th></th>\n      <th></th>\n      <th></th>\n      <th></th>\n      <th></th>\n    </tr>\n  </thead>\n  <tbody>\n    <tr>\n      <th>2018-01-03</th>\n      <td>11.61</td>\n      <td>12.14</td>\n      <td>11.36</td>\n      <td>11.55</td>\n      <td>11.55</td>\n      <td>154066700</td>\n      <td>0.051913</td>\n    </tr>\n    <tr>\n      <th>2018-01-04</th>\n      <td>12.10</td>\n      <td>12.43</td>\n      <td>11.97</td>\n      <td>12.12</td>\n      <td>12.12</td>\n      <td>109503000</td>\n      <td>0.049351</td>\n    </tr>\n    <tr>\n      <th>2018-01-05</th>\n      <td>12.19</td>\n      <td>12.22</td>\n      <td>11.66</td>\n      <td>11.88</td>\n      <td>11.88</td>\n      <td>63808900</td>\n      <td>-0.019802</td>\n    </tr>\n    <tr>\n      <th>2018-01-08</th>\n      <td>12.01</td>\n      <td>12.30</td>\n      <td>11.85</td>\n      <td>12.28</td>\n      <td>12.28</td>\n      <td>63346000</td>\n      <td>0.033670</td>\n    </tr>\n    <tr>\n      <th>2018-01-09</th>\n      <td>12.00</td>\n      <td>12.02</td>\n      <td>11.71</td>\n      <td>11.82</td>\n      <td>11.82</td>\n      <td>62560900</td>\n      <td>-0.037459</td>\n    </tr>\n  </tbody>\n</table>\n</div>"
          },
          "metadata": {}
        }
      ],
      "execution_count": 3,
      "metadata": {
        "collapsed": true,
        "jupyter": {
          "source_hidden": false,
          "outputs_hidden": false
        },
        "nteract": {
          "transient": {
            "deleting": false
          }
        },
        "execution": {
          "iopub.status.busy": "2022-05-28T01:14:28.637Z",
          "iopub.execute_input": "2022-05-28T01:14:28.642Z",
          "iopub.status.idle": "2022-05-28T01:14:28.654Z",
          "shell.execute_reply": "2022-05-28T01:14:28.745Z"
        }
      }
    },
    {
      "cell_type": "code",
      "source": [
        "Returns = np.array(dataset['Returns'])\n",
        "Open = np.array(dataset['Open'])\n",
        "Close = np.array(dataset['Adj Close'])\n",
        "High = np.array(dataset['High'])\n",
        "Low = np.array(dataset['Low'])"
      ],
      "outputs": [],
      "execution_count": 4,
      "metadata": {
        "collapsed": true,
        "jupyter": {
          "source_hidden": false,
          "outputs_hidden": false
        },
        "nteract": {
          "transient": {
            "deleting": false
          }
        },
        "execution": {
          "iopub.status.busy": "2022-05-28T01:14:28.663Z",
          "iopub.execute_input": "2022-05-28T01:14:28.668Z",
          "iopub.status.idle": "2022-05-28T01:14:28.677Z",
          "shell.execute_reply": "2022-05-28T01:14:28.754Z"
        }
      }
    },
    {
      "cell_type": "code",
      "source": [
        "x = Returns \n",
        "y = x**2 + 2*x + 2"
      ],
      "outputs": [],
      "execution_count": 5,
      "metadata": {
        "collapsed": true,
        "jupyter": {
          "source_hidden": false,
          "outputs_hidden": false
        },
        "nteract": {
          "transient": {
            "deleting": false
          }
        },
        "execution": {
          "iopub.status.busy": "2022-05-28T01:14:28.685Z",
          "iopub.execute_input": "2022-05-28T01:14:28.690Z",
          "iopub.status.idle": "2022-05-28T01:14:28.699Z",
          "shell.execute_reply": "2022-05-28T01:14:28.758Z"
        }
      }
    },
    {
      "cell_type": "code",
      "source": [
        "fig, ax = plt.subplots()\n",
        "_ = ax.plot(x,y)"
      ],
      "outputs": [
        {
          "output_type": "display_data",
          "data": {
            "text/plain": "<Figure size 432x288 with 1 Axes>",
            "image/png": "[encoded data removed]"
          },
          "metadata": {
            "needs_background": "light"
          }
        }
      ],
      "execution_count": 6,
      "metadata": {
        "collapsed": true,
        "jupyter": {
          "source_hidden": false,
          "outputs_hidden": false
        },
        "nteract": {
          "transient": {
            "deleting": false
          }
        },
        "execution": {
          "iopub.status.busy": "2022-05-28T01:14:28.707Z",
          "iopub.execute_input": "2022-05-28T01:14:28.713Z",
          "iopub.status.idle": "2022-05-28T01:14:28.775Z",
          "shell.execute_reply": "2022-05-28T01:14:28.762Z"
        }
      }
    },
    {
      "cell_type": "code",
      "source": [
        "fig, ax = plt.subplots()\n",
        "ax.set_xlim([-0.25, -0])\n",
        "ax.set_ylim([1, 2.5])\n",
        "_ = ax.plot(x,y)\n",
        "\n"
      ],
      "outputs": [
        {
          "output_type": "display_data",
          "data": {
            "text/plain": "<Figure size 432x288 with 1 Axes>",
            "image/png": "[encoded data removed]"
          },
          "metadata": {
            "needs_background": "light"
          }
        }
      ],
      "execution_count": 7,
      "metadata": {
        "collapsed": true,
        "jupyter": {
          "source_hidden": false,
          "outputs_hidden": false
        },
        "nteract": {
          "transient": {
            "deleting": false
          }
        },
        "execution": {
          "iopub.status.busy": "2022-05-28T01:14:28.784Z",
          "iopub.execute_input": "2022-05-28T01:14:28.790Z",
          "iopub.status.idle": "2022-05-28T01:14:28.861Z",
          "shell.execute_reply": "2022-05-28T01:14:28.853Z"
        }
      }
    },
    {
      "cell_type": "code",
      "source": [
        "fig, ax = plt.subplots()\n",
        "ax.set_xlim([-0.2, .2])\n",
        "ax.set_ylim([1.2, 2.2])\n",
        "_ = ax.plot(x,y)"
      ],
      "outputs": [
        {
          "output_type": "display_data",
          "data": {
            "text/plain": "<Figure size 432x288 with 1 Axes>",
            "image/png": "[encoded data removed]"
          },
          "metadata": {
            "needs_background": "light"
          }
        }
      ],
      "execution_count": 8,
      "metadata": {
        "collapsed": true,
        "jupyter": {
          "source_hidden": false,
          "outputs_hidden": false
        },
        "nteract": {
          "transient": {
            "deleting": false
          }
        },
        "execution": {
          "iopub.status.busy": "2022-05-28T01:14:28.869Z",
          "iopub.execute_input": "2022-05-28T01:14:28.875Z",
          "iopub.status.idle": "2022-05-28T01:14:28.921Z",
          "shell.execute_reply": "2022-05-28T01:14:28.948Z"
        }
      }
    },
    {
      "cell_type": "code",
      "source": [
        "fig, ax = plt.subplots()\n",
        "plt.axvline(x=0, color='lightgray')\n",
        "plt.axhline(y=0, color='lightgray')\n",
        "plt.xlim(-1, 1)\n",
        "plt.ylim(1.2, 2)\n",
        "plt.axvline(x=0.5, color='purple', linestyle='--')\n",
        "plt.axhline(y=1.5, color='purple', linestyle='--')\n",
        "_ = ax.plot(x,y)"
      ],
      "outputs": [
        {
          "output_type": "display_data",
          "data": {
            "text/plain": "<Figure size 432x288 with 1 Axes>",
            "image/png": "[encoded data removed]"
          },
          "metadata": {
            "needs_background": "light"
          }
        }
      ],
      "execution_count": 9,
      "metadata": {
        "collapsed": true,
        "jupyter": {
          "source_hidden": false,
          "outputs_hidden": false
        },
        "nteract": {
          "transient": {
            "deleting": false
          }
        },
        "execution": {
          "iopub.status.busy": "2022-05-28T01:14:28.929Z",
          "iopub.execute_input": "2022-05-28T01:14:28.934Z",
          "iopub.status.idle": "2022-05-28T01:14:29.020Z",
          "shell.execute_reply": "2022-05-28T01:14:29.013Z"
        }
      }
    },
    {
      "cell_type": "code",
      "source": [
        "def limits(my_x):\n",
        "    my_y = (my_x**2 - 1)/(my_x - 1)\n",
        "    return my_y"
      ],
      "outputs": [],
      "execution_count": 10,
      "metadata": {
        "collapsed": true,
        "jupyter": {
          "source_hidden": false,
          "outputs_hidden": false
        },
        "nteract": {
          "transient": {
            "deleting": false
          }
        },
        "execution": {
          "iopub.status.busy": "2022-05-28T01:14:29.030Z",
          "iopub.execute_input": "2022-05-28T01:14:29.035Z",
          "iopub.status.idle": "2022-05-28T01:14:29.044Z",
          "shell.execute_reply": "2022-05-28T01:14:29.149Z"
        }
      }
    },
    {
      "cell_type": "code",
      "source": [
        "def my_fxn(my_x):\n",
        "    my_y = (my_x**2 - 1)/(my_x - 1)\n",
        "    return my_y"
      ],
      "outputs": [],
      "execution_count": 11,
      "metadata": {
        "collapsed": true,
        "jupyter": {
          "source_hidden": false,
          "outputs_hidden": false
        },
        "nteract": {
          "transient": {
            "deleting": false
          }
        },
        "execution": {
          "iopub.status.busy": "2022-05-28T01:14:29.052Z",
          "iopub.execute_input": "2022-05-28T01:14:29.058Z",
          "iopub.status.idle": "2022-05-28T01:14:29.067Z",
          "shell.execute_reply": "2022-05-28T01:14:29.154Z"
        }
      }
    },
    {
      "cell_type": "code",
      "source": [
        "my_fxn(x)"
      ],
      "outputs": [
        {
          "output_type": "execute_result",
          "execution_count": 12,
          "data": {
            "text/plain": "array([1.05191263, 1.04935062, 0.98019804, 1.03367   , 0.96254071,\n       1.01184436, 1.01505019, 0.99011533, 0.99084854, 1.02267006,\n       1.02380952, 1.00962309, 1.00476564, 1.0229249 , 0.98222569,\n       0.97639652, 1.04351329, 1.02857142, 0.96621623, 1.06759906,\n       0.96433772, 0.93962263, 0.92931726, 1.00691443, 0.99570822,\n       0.96724137, 1.0080214 , 1.0327144 , 1.00856159, 1.03565366,\n       0.99918031, 0.96964726, 1.01692054, 0.97504158, 1.0102389 ,\n       1.01942564, 1.02899755, 1.00885666, 0.96648044, 0.98265896,\n       0.99243704, 1.00846735, 0.98740557, 1.04081629, 0.97794122,\n       0.97744357, 0.98461544, 1.01041666, 0.97594496, 1.00880285,\n       1.00087262, 0.99651265, 0.97200344, 1.0135014 , 0.96891649,\n       0.9743355 , 0.98212601, 0.95785444, 0.98100004, 1.02446481,\n       0.94825866, 1.00209868, 1.02303668, 1.02558854, 0.95908176,\n       0.99167535, 1.04721929, 0.98396795, 1.0264766 , 0.98511909,\n       1.01611277, 1.04261648, 0.9847908 , 0.97586873, 0.98813057,\n       1.00500502, 1.0049801 , 0.96233894, 1.13697219, 1.00634055,\n       0.97929797, 1.02297794, 0.98562445, 0.9963537 , 1.0320219 ,\n       1.02748231, 1.00172558, 1.02928511, 1.01506279, 0.98516073,\n       1.02343094, 1.01798858, 1.02971887, 1.        , 1.01404059,\n       0.99923075, 0.99923016, 1.00924506, 1.02366408, 1.00969427,\n       0.98670603, 1.03443114, 0.99348769, 1.04879826, 1.03125005,\n       1.        , 1.05521883, 0.95022337, 1.02417728, 1.03147538,\n       1.00762879, 1.02965295, 0.9957108 , 1.00553847, 1.04712365,\n       0.97545295, 0.98981426, 0.94733651, 1.0095847 , 0.95632908,\n       1.02581074, 0.96580647, 1.0227121 , 0.97909859, 1.0113409 ,\n       0.98944592, 1.03333333, 1.05548391, 1.01528117, 0.99638764,\n       0.98308164, 1.01782415, 0.98248798, 1.01905344, 1.01749101,\n       0.99881444, 0.99169132, 0.98743273, 1.00969696, 0.97178876,\n       0.99135261, 1.14330226, 1.0321526 , 1.02534316, 0.94387229,\n       1.00818329, 1.01677497, 0.984034  , 1.05083832, 1.00669064,\n       1.00102252, 0.97548521, 0.99790571, 1.03515216, 1.01469848,\n       0.984016  , 0.98121823, 1.02276257, 1.01062211, 1.02102103,\n       1.0245098 , 1.06650724, 1.07581869, 1.05337784, 0.99168642,\n       1.00598809, 0.98769836, 1.01124953, 1.1148192 , 1.01603709,\n       0.97649947, 0.98347698, 1.09167277, 1.00702579, 1.07009962,\n       0.94628998, 1.07349087, 0.99113689, 0.98458218, 0.97745064,\n       0.99903881, 0.99486851, 1.05125726, 0.99877335, 0.98833279,\n       1.01242627, 0.94783674, 1.01715768, 0.92361554, 0.97966919,\n       0.97713684, 0.98452123, 0.96745882, 1.02947849, 0.917768  ,\n       1.01199997, 1.04110676, 0.9969628 , 1.07311501, 0.96877214,\n       0.97509163, 0.88880538, 1.05790367, 1.0023971 , 0.90833004,\n       0.84554628, 0.91489355, 0.9557573 , 1.02077154, 1.05872083,\n       1.11037893, 1.00049457, 0.9836876 , 1.03919602, 1.05609284,\n       0.970696  , 0.99198113, 0.90489777, 1.03047819, 1.06119321,\n       1.03267661, 0.96137739, 0.92497584, 1.00523278, 0.97501304,\n       1.03470366, 1.03611975, 1.04830674, 1.01377677, 1.00421744,\n       0.99393369, 1.11314554, 0.89076346, 1.00852265, 0.91361501,\n       1.02723539, 0.99949974, 1.02502503, 0.96972661, 1.00201405,\n       0.94623117, 1.03558152, 0.93128204, 0.9878855 , 0.94370122,\n       0.98346127, 1.07507508, 0.97709498, 1.01886792, 1.03591467])"
          },
          "metadata": {}
        }
      ],
      "execution_count": 12,
      "metadata": {
        "collapsed": true,
        "jupyter": {
          "source_hidden": false,
          "outputs_hidden": false
        },
        "nteract": {
          "transient": {
            "deleting": false
          }
        },
        "execution": {
          "iopub.status.busy": "2022-05-28T01:14:29.075Z",
          "iopub.execute_input": "2022-05-28T01:14:29.081Z",
          "iopub.status.idle": "2022-05-28T01:14:29.095Z",
          "shell.execute_reply": "2022-05-28T01:14:29.158Z"
        }
      }
    },
    {
      "cell_type": "code",
      "source": [
        "y = limits(x)"
      ],
      "outputs": [],
      "execution_count": 13,
      "metadata": {
        "collapsed": true,
        "jupyter": {
          "source_hidden": false,
          "outputs_hidden": false
        },
        "nteract": {
          "transient": {
            "deleting": false
          }
        },
        "execution": {
          "iopub.status.busy": "2022-05-28T01:14:29.103Z",
          "iopub.execute_input": "2022-05-28T01:14:29.110Z",
          "iopub.status.idle": "2022-05-28T01:14:29.119Z",
          "shell.execute_reply": "2022-05-28T01:14:29.161Z"
        }
      }
    },
    {
      "cell_type": "code",
      "source": [
        "fig, ax = plt.subplots()\n",
        "plt.axvline(x=0, color='lightgray')\n",
        "plt.axhline(y=0, color='lightgray')\n",
        "plt.xlim(-0.25, 1)\n",
        "plt.ylim(-0.25, 1.5)\n",
        "plt.axvline(x=1.5, color='purple', linestyle='--')\n",
        "plt.axhline(y=1.5, color='purple', linestyle='--')\n",
        "_ = ax.plot(x,y)"
      ],
      "outputs": [
        {
          "output_type": "display_data",
          "data": {
            "text/plain": "<Figure size 432x288 with 1 Axes>",
            "image/png": "[encoded data removed]"
          },
          "metadata": {
            "needs_background": "light"
          }
        }
      ],
      "execution_count": 14,
      "metadata": {
        "collapsed": true,
        "jupyter": {
          "source_hidden": false,
          "outputs_hidden": false
        },
        "nteract": {
          "transient": {
            "deleting": false
          }
        },
        "execution": {
          "iopub.status.busy": "2022-05-28T01:14:29.127Z",
          "iopub.execute_input": "2022-05-28T01:14:29.133Z",
          "iopub.status.idle": "2022-05-28T01:14:29.177Z",
          "shell.execute_reply": "2022-05-28T01:14:29.165Z"
        }
      }
    },
    {
      "cell_type": "code",
      "source": [
        "def sin_fxn(my_x):\n",
        "    my_y = np.sin(my_x)/my_x\n",
        "    return my_y"
      ],
      "outputs": [],
      "execution_count": 15,
      "metadata": {
        "collapsed": true,
        "jupyter": {
          "source_hidden": false,
          "outputs_hidden": false
        },
        "nteract": {
          "transient": {
            "deleting": false
          }
        },
        "execution": {
          "iopub.status.busy": "2022-05-28T01:14:29.185Z",
          "iopub.execute_input": "2022-05-28T01:14:29.190Z",
          "iopub.status.idle": "2022-05-28T01:14:29.199Z",
          "shell.execute_reply": "2022-05-28T01:14:29.255Z"
        }
      }
    },
    {
      "cell_type": "code",
      "source": [
        "y = sin_fxn(x)\n",
        "y"
      ],
      "outputs": [
        {
          "output_type": "execute_result",
          "execution_count": 16,
          "data": {
            "text/plain": "array([0.99955091, 0.99959414, 0.99993465, 0.99981107, 0.99976615,\n       0.99997662, 0.99996225, 0.99998372, 0.99998604, 0.99991435,\n       0.99990552, 0.99998457, 0.99999621, 0.99991241, 0.99994735,\n       0.99990715, 0.99968446, 0.99986395, 0.99980979, 0.99923857,\n       0.99978805, 0.99939254, 0.99916753, 0.99999203, 0.99999693,\n       0.99982115, 0.99998928, 0.99982164, 0.99998778, 0.99978815,\n       0.99999989, 0.99984646, 0.99995228, 0.99989618, 0.99998253,\n       0.99993711, 0.99985986, 0.99998693, 0.99981275, 0.99994988,\n       0.99999047, 0.99998805, 0.99997356, 0.99972236, 0.9999189 ,\n       0.9999152 , 0.99996055, 0.99998192, 0.99990356, 0.99998709,\n       0.99999987, 0.99999797, 0.99986937, 0.99996962, 0.99983898,\n       0.99989023, 0.99994675, 0.99970398, 0.99993983, 0.99990025,\n       0.99955387, 0.99999927, 0.99991155, 0.99989087, 0.99972097,\n       0.99998845, 0.99962843, 0.99995716, 0.99988317, 0.99996309,\n       0.99995673, 0.99969733, 0.99996145, 0.99990295, 0.99997652,\n       0.99999582, 0.99999587, 0.99976362, 0.99687604, 0.9999933 ,\n       0.99992857, 0.999912  , 0.99996556, 0.99999778, 0.99982911,\n       0.99987413, 0.9999995 , 0.99985707, 0.99996219, 0.9999633 ,\n       0.9999085 , 0.99994607, 0.9998528 ,        nan, 0.99996714,\n       0.9999999 , 0.9999999 , 0.99998575, 0.99990667, 0.99998434,\n       0.99997055, 0.99980243, 0.99999293, 0.99960317, 0.99983725,\n              nan, 0.99949189, 0.9995871 , 0.99990258, 0.99983489,\n       0.9999903 , 0.99985346, 0.99999693, 0.99999489, 0.99962993,\n       0.99989958, 0.99998271, 0.99953782, 0.99998469, 0.99968217,\n       0.99988897, 0.99980515, 0.99991403, 0.99992719, 0.99997856,\n       0.99998144, 0.99981483, 0.999487  , 0.99996108, 0.99999783,\n       0.9999523 , 0.99994705, 0.99994889, 0.9999395 , 0.99994901,\n       0.99999977, 0.99998849, 0.99997368, 0.99998433, 0.99986736,\n       0.99998754, 0.99658092, 0.99982771, 0.99989296, 0.99947503,\n       0.99998884, 0.9999531 , 0.99995752, 0.9995693 , 0.99999254,\n       0.99999983, 0.99989984, 0.99999927, 0.99979407, 0.99996399,\n       0.99995742, 0.99994121, 0.99991365, 0.9999812 , 0.99992635,\n       0.99989988, 0.99926296, 0.9990422 , 0.9995252 , 0.99998848,\n       0.99999402, 0.99997478, 0.99997891, 0.99780421, 0.99995714,\n       0.99990796, 0.9999545 , 0.99859994, 0.99999177, 0.99918121,\n       0.99951928, 0.99910009, 0.99998691, 0.99996038, 0.99991526,\n       0.99999985, 0.99999561, 0.99956217, 0.99999975, 0.99997731,\n       0.99997426, 0.99954656, 0.99995094, 0.99902785, 0.99993111,\n       0.99991288, 0.99996007, 0.99982352, 0.99985518, 0.99887336,\n       0.999976  , 0.9997184 , 0.99999846, 0.99910927, 0.99983748,\n       0.9998966 , 0.99794057, 0.99944129, 0.99999904, 0.99860002,\n       0.99602875, 0.99879325, 0.9996738 , 0.99992809, 0.99942541,\n       0.99797065, 0.99999996, 0.99995565, 0.99974397, 0.99947568,\n       0.99985689, 0.99998928, 0.99849328, 0.99984519, 0.99937602,\n       0.99982205, 0.9997514 , 0.99906216, 0.99999544, 0.99989595,\n       0.99979929, 0.99978257, 0.99961112, 0.99996837, 0.99999704,\n       0.99999387, 0.99786771, 0.99801242, 0.99998789, 0.99875674,\n       0.99987638, 0.99999996, 0.99989563, 0.99984726, 0.99999932,\n       0.99951822, 0.99978901, 0.99921316, 0.99997554, 0.99947182,\n       0.99995441, 0.99906089, 0.99991256, 0.99994067, 0.99978504])"
          },
          "metadata": {}
        }
      ],
      "execution_count": 16,
      "metadata": {
        "collapsed": true,
        "jupyter": {
          "source_hidden": false,
          "outputs_hidden": false
        },
        "nteract": {
          "transient": {
            "deleting": false
          }
        },
        "execution": {
          "iopub.status.busy": "2022-05-28T01:14:29.208Z",
          "iopub.execute_input": "2022-05-28T01:14:29.214Z",
          "iopub.status.idle": "2022-05-28T01:14:29.225Z",
          "shell.execute_reply": "2022-05-28T01:14:29.260Z"
        }
      }
    },
    {
      "cell_type": "code",
      "source": [
        "fig, ax = plt.subplots()\n",
        "plt.axvline(x=0, color='lightgray')\n",
        "plt.axhline(y=0, color='lightgray')\n",
        "plt.xlim(-1, 1)\n",
        "plt.ylim(-1, 1)\n",
        "plt.axvline(x=0.5, color='purple', linestyle='--')\n",
        "plt.axhline(y=0.5, color='purple', linestyle='--')\n",
        "_ = ax.plot(x,y)"
      ],
      "outputs": [
        {
          "output_type": "display_data",
          "data": {
            "text/plain": "<Figure size 432x288 with 1 Axes>",
            "image/png": "[encoded data removed]"
          },
          "metadata": {
            "needs_background": "light"
          }
        }
      ],
      "execution_count": 17,
      "metadata": {
        "collapsed": true,
        "jupyter": {
          "source_hidden": false,
          "outputs_hidden": false
        },
        "nteract": {
          "transient": {
            "deleting": false
          }
        },
        "execution": {
          "iopub.status.busy": "2022-05-28T01:14:29.233Z",
          "iopub.execute_input": "2022-05-28T01:14:29.239Z",
          "shell.execute_reply": "2022-05-28T01:14:29.335Z",
          "iopub.status.idle": "2022-05-28T01:14:29.291Z"
        }
      }
    },
    {
      "cell_type": "code",
      "source": [
        "def inf_fxn(my_x):\n",
        "    my_y = 25/my_x\n",
        "    return my_y"
      ],
      "outputs": [],
      "execution_count": 18,
      "metadata": {
        "collapsed": true,
        "jupyter": {
          "source_hidden": false,
          "outputs_hidden": false
        },
        "nteract": {
          "transient": {
            "deleting": false
          }
        },
        "execution": {
          "iopub.status.busy": "2022-05-28T01:14:29.300Z",
          "iopub.execute_input": "2022-05-28T01:14:29.305Z",
          "iopub.status.idle": "2022-05-28T01:14:29.314Z",
          "shell.execute_reply": "2022-05-28T01:14:29.339Z"
        }
      }
    },
    {
      "cell_type": "code",
      "source": [
        "y = inf_fxn(x)\n",
        "y = y[~np.isnan(y)]\n",
        "# y = y[np.isneginf(y)] = 0 # negative infinity\n",
        "y[np.isinf(y)] = 0\n",
        "y"
      ],
      "outputs": [
        {
          "output_type": "execute_result",
          "execution_count": 26,
          "data": {
            "text/plain": "array([   481.57837939,    506.57922695,  -1262.50119209,    742.50071526,\n         -667.39123449,   2110.70905512,   1661.10830013,  -2529.1691502 ,\n        -2731.80312803,   1102.77589398,   1050.00016443,   2597.91919987,\n         5245.88009028,   1090.51735194,  -1406.52449289,  -1059.16599645,\n          574.53707056,    875.00025775,   -740.0002967 ,    369.82763157,\n         -701.02072394,   -414.06240128,   -353.6931304 ,   3615.62835276,\n        -5825.08869306,   -763.15769   ,   3116.66145679,    764.18945391,\n         2920.01678476,    701.19033292, -30499.30144955,   -823.64887505,\n         1477.49432566,  -1001.66606797,   2441.66905085,   1286.95909973,\n          862.14189568,   2822.73610015,   -745.83318196,  -1441.66636391,\n        -3305.58487247,   2952.51699934,  -1985.0050227 ,    612.50059605,\n        -1133.33539374,  -1108.33147897,  -1625.00582803,   2400.00238419,\n        -1039.2831963 ,   2839.98908047,  28649.34436391,  -7168.75700355,\n         -892.96696419,   1851.65954593,   -804.28485403,   -974.10805822,\n        -1398.68029413,   -593.18236004,  -1315.79237962,   1021.87601825,\n         -483.17266075,  11912.22701697,   1085.22597719,    977.00004578,\n         -610.9744439 ,  -3003.12775672,    529.44465402,  -1559.37641561,\n          944.22990867,  -1680.00425976,   1551.56402737,    586.62749951,\n        -1643.74184166,  -1035.99996567,  -2106.25193715,   4994.98083122,\n         5019.98083122,   -663.8155996 ,    182.51880818,   3942.8743188 ,\n        -1207.61106181,   1088.00001144,  -1739.06417638,  -6856.25670553,\n          780.71558388,    909.67616648,  14487.85942492,    853.67606222,\n         1659.71938181,  -1684.71938181,   1066.96528622,   1389.7709884 ,\n          841.21646352,      0.        ,   1780.55249438, -32499.25615106,\n       -32474.25615106,   2704.14765954,   1056.45346369,   2578.84385431,\n        -1880.55236193,    726.08687765,  -3838.8822956 ,    512.31335742,\n          799.99862247,      0.        ,    452.74408256,   -502.24376413,\n         1034.02878775,    794.27159081,   3277.06031948,    843.08635838,\n        -5828.59673025,   4513.88123596,    530.51917008,  -1018.45223228,\n        -2454.41074173,   -474.71219891,   2608.32331979,   -572.46333194,\n          968.58886892,   -731.13244384,   1100.73481976,  -1196.09135883,\n         2204.41074173,  -2368.75223518,    750.        ,    450.58107557,\n         1636.00006104,  -6920.67518596,  -1477.6849455 ,   1402.59104332,\n        -1427.59104332,   1312.09907155,   1429.30582595, -21087.01840549,\n        -3008.90076429,  -1989.29427793,   2578.12745869,   -886.1714993 ,\n        -2891.04474053,    174.45642664,    777.54218795,    986.45930191,\n         -445.41278343,   3055.00775657,   1490.31594167,  -1565.82743647,\n          491.75503367,   3736.56264214,  24449.43972916,  -1019.79263524,\n       -11937.22701698,    711.19392894,   1700.85665991,  -1564.06402737,\n        -1331.07811348,   1098.29411714,   2353.58174387,   1189.285471  ,\n         1019.99998093,    375.89892297,    329.7340093 ,    468.35911481,\n        -3007.12868185,   4174.95740298,  -2032.24912324,   2222.31592428,\n          217.73361066,   1558.88621625,  -1063.80585755,  -1513.04022424,\n          272.70913012,   3558.31645489,    356.63529483,   -465.46253768,\n          340.17831142,  -2820.68085554,  -1621.50001526,  -1108.67868647,\n       -26009.39089522,  -4871.87969387,    487.73580945, -20380.78390235,\n        -2142.75711489,   2011.8672395 ,   -479.26449304,   1457.07355519,\n         -327.29171948,  -1229.66071833,  -1093.46219193,  -1615.11517273,\n         -768.2573181 ,    848.07614716,   -304.01788565,   2083.33863154,\n          608.1725232 ,  -8231.25789762,    341.92707273,   -800.56721879,\n        -1003.67880734,   -224.83101283,    431.75155755,  10429.2597832 ,\n         -272.71748343,   -161.86078091,   -293.74977467,   -565.06495999,\n         1203.57014403,    425.74330066,    226.49250014,  50548.84131222,\n        -1532.57607722,    637.81993911,    445.68972038,   -853.12581956,\n        -3117.64577186,   -262.87500858,    820.25875818,    408.542069  ,\n          765.07316642,   -647.28920923,   -333.22596801,   4777.57305257,\n        -1000.52173982,    720.38502056,    692.1420728 ,    517.52613758,\n         1814.64937781,   5927.7677701 ,  -4121.1200446 ,    220.95436292,\n         -228.86115008,   2933.35955961,   -289.40213955,    917.92329589,\n       -49973.85561702,    998.99997711,   -825.80785583,  12412.80816366,\n         -464.95339473,    702.61185744,   -363.80592872,  -2063.64278717,\n         -444.05931853,  -1511.60346319,    332.99999237,  -1091.46379758,\n         1325.00028899,    696.09440193])"
          },
          "metadata": {}
        }
      ],
      "execution_count": 26,
      "metadata": {
        "collapsed": true,
        "jupyter": {
          "source_hidden": false,
          "outputs_hidden": false
        },
        "nteract": {
          "transient": {
            "deleting": false
          }
        },
        "execution": {
          "iopub.status.busy": "2022-05-28T01:17:13.606Z",
          "iopub.execute_input": "2022-05-28T01:17:13.613Z",
          "iopub.status.idle": "2022-05-28T01:17:13.626Z",
          "shell.execute_reply": "2022-05-28T01:17:13.640Z"
        }
      }
    },
    {
      "cell_type": "code",
      "source": [
        "max(y)"
      ],
      "outputs": [
        {
          "output_type": "execute_result",
          "execution_count": 27,
          "data": {
            "text/plain": "50548.84131222152"
          },
          "metadata": {}
        }
      ],
      "execution_count": 27,
      "metadata": {
        "collapsed": true,
        "jupyter": {
          "source_hidden": false,
          "outputs_hidden": false
        },
        "nteract": {
          "transient": {
            "deleting": false
          }
        },
        "execution": {
          "iopub.status.busy": "2022-05-28T01:17:18.062Z",
          "iopub.execute_input": "2022-05-28T01:17:18.068Z",
          "iopub.status.idle": "2022-05-28T01:17:18.080Z",
          "shell.execute_reply": "2022-05-28T01:17:18.095Z"
        }
      }
    },
    {
      "cell_type": "code",
      "source": [
        "fig, ax = plt.subplots()\n",
        "plt.axvline(x=0, color='lightgray')\n",
        "plt.axhline(y=0, color='lightgray')\n",
        "plt.xlim(min(x), max(x))\n",
        "plt.ylim(min(y), max(y))\n",
        "_ = ax.plot(x, y)"
      ],
      "outputs": [
        {
          "output_type": "display_data",
          "data": {
            "text/plain": "<Figure size 432x288 with 1 Axes>",
            "image/png": "[encoded data removed]"
          },
          "metadata": {
            "needs_background": "light"
          }
        }
      ],
      "execution_count": 29,
      "metadata": {
        "collapsed": true,
        "jupyter": {
          "source_hidden": false,
          "outputs_hidden": false
        },
        "nteract": {
          "transient": {
            "deleting": false
          }
        },
        "execution": {
          "iopub.status.busy": "2022-05-28T01:17:27.542Z",
          "iopub.execute_input": "2022-05-28T01:17:27.549Z",
          "iopub.status.idle": "2022-05-28T01:17:27.626Z",
          "shell.execute_reply": "2022-05-28T01:17:27.611Z"
        }
      }
    }
  ],
  "metadata": {
    "kernel_info": {
      "name": "python3"
    },
    "language_info": {
      "name": "python",
      "version": "3.6.13",
      "mimetype": "text/x-python",
      "codemirror_mode": {
        "name": "ipython",
        "version": 3
      },
      "pygments_lexer": "ipython3",
      "nbconvert_exporter": "python",
      "file_extension": ".py"
    },
    "kernelspec": {
      "argv": [
        "C:/Users/Tin Hang/Anaconda3\\python.exe",
        "-m",
        "ipykernel_launcher",
        "-f",
        "{connection_file}"
      ],
      "display_name": "Python 3",
      "language": "python",
      "name": "python3"
    },
    "nteract": {
      "version": "0.28.0"
    }
  },
  "nbformat": 4,
  "nbformat_minor": 0
}