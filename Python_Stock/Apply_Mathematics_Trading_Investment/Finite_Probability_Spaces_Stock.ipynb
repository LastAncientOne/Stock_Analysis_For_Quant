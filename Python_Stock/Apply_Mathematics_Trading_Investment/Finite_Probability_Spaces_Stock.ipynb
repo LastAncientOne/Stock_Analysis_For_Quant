{
  "cells": [
    {
      "cell_type": "markdown",
      "source": [
        "#  Finite Probability Space"
      ],
      "metadata": {
        "nteract": {
          "transient": {
            "deleting": false
          }
        }
      }
    },
    {
      "cell_type": "markdown",
      "source": [
        "https://en.wikipedia.org/wiki/Probability_space  \n",
        "https://en.wikipedia.org/wiki/Finite_measure  "
      ],
      "metadata": {
        "nteract": {
          "transient": {
            "deleting": false
          }
        }
      }
    },
    {
      "cell_type": "code",
      "source": [
        "import warnings\n",
        "warnings.filterwarnings(\"ignore\")\n",
        "\n",
        "import yfinance as yf\n",
        "import pandas as pd\n",
        "import numpy as np\n",
        "import matplotlib.pyplot as plt\n",
        "\n",
        "def calculate_probability_space(data):\n",
        "    price_changes = np.diff(data)  # Calculate daily price changes\n",
        "    unique_changes, counts = np.unique(price_changes, return_counts=True)\n",
        "    probabilities = counts / len(price_changes)\n",
        "\n",
        "    probability_space = dict(zip(unique_changes, probabilities))\n",
        "    return probability_space\n",
        "\n",
        "# Input\n",
        "symbol = 'AMD'\n",
        "start = '2020-01-01'\n",
        "end = '2023-01-01'\n",
        "\n",
        "# Read data\n",
        "dataset = yf.download(symbol, start, end)\n",
        "\n",
        "# Prepare data\n",
        "data = dataset['Adj Close'].values\n",
        "\n",
        "# Calculate the finite probability space\n",
        "probability_space = calculate_probability_space(data)"
      ],
      "outputs": [
        {
          "output_type": "stream",
          "name": "stdout",
          "text": [
            "[*********************100%***********************]  1 of 1 completed\n"
          ]
        }
      ],
      "execution_count": 1,
      "metadata": {
        "collapsed": true,
        "jupyter": {
          "source_hidden": false,
          "outputs_hidden": false
        },
        "nteract": {
          "transient": {
            "deleting": false
          }
        },
        "execution": {
          "iopub.status.busy": "2023-11-01T16:28:05.031Z",
          "iopub.execute_input": "2023-11-01T16:28:05.034Z",
          "iopub.status.idle": "2023-11-01T16:28:05.993Z",
          "shell.execute_reply": "2023-11-01T16:28:05.997Z"
        }
      }
    },
    {
      "cell_type": "code",
      "source": [
        "# Print the probability space\n",
        "for change, probability in probability_space.items():\n",
        "    print(f\"Price change: {change}, Probability: {probability}\")"
      ],
      "outputs": [],
      "execution_count": null,
      "metadata": {
        "collapsed": true,
        "jupyter": {
          "source_hidden": false,
          "outputs_hidden": false
        },
        "nteract": {
          "transient": {
            "deleting": false
          }
        }
      }
    },
    {
      "cell_type": "code",
      "source": [
        "# Plot the probability distribution\n",
        "plt.bar(probability_space.keys(), probability_space.values())\n",
        "plt.xlabel('Price Change')\n",
        "plt.ylabel('Probability')\n",
        "plt.title('Probability Distribution of Price Changes')\n",
        "plt.show()"
      ],
      "outputs": [
        {
          "output_type": "display_data",
          "data": {
            "text/plain": "<Figure size 432x288 with 1 Axes>",
            "image/png": "[encoded data removed]"
          },
          "metadata": {
            "needs_background": "light"
          }
        }
      ],
      "execution_count": 2,
      "metadata": {
        "collapsed": true,
        "jupyter": {
          "source_hidden": false,
          "outputs_hidden": false
        },
        "nteract": {
          "transient": {
            "deleting": false
          }
        },
        "execution": {
          "iopub.status.busy": "2023-11-01T16:28:07.392Z",
          "iopub.execute_input": "2023-11-01T16:28:07.395Z",
          "iopub.status.idle": "2023-11-01T16:28:08.051Z",
          "shell.execute_reply": "2023-11-01T16:28:08.057Z"
        }
      }
    }
  ],
  "metadata": {
    "kernel_info": {
      "name": "python3"
    },
    "language_info": {
      "name": "python",
      "version": "3.7.6",
      "mimetype": "text/x-python",
      "codemirror_mode": {
        "name": "ipython",
        "version": 3
      },
      "pygments_lexer": "ipython3",
      "nbconvert_exporter": "python",
      "file_extension": ".py"
    },
    "kernelspec": {
      "argv": [
        "C:/Users/Tin Hang/anaconda3\\python.exe",
        "-m",
        "ipykernel_launcher",
        "-f",
        "{connection_file}"
      ],
      "display_name": "Python 3",
      "language": "python",
      "name": "python3"
    },
    "nteract": {
      "version": "0.28.0"
    }
  },
  "nbformat": 4,
  "nbformat_minor": 0
}