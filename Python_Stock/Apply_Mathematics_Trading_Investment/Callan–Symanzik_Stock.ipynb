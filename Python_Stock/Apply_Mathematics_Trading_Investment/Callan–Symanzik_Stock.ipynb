{
  "cells": [
    {
      "cell_type": "markdown",
      "source": [
        "# Callan–Symanzik equation"
      ],
      "metadata": {
        "nteract": {
          "transient": {
            "deleting": false
          }
        }
      }
    },
    {
      "cell_type": "markdown",
      "source": [
        "https://en.wikipedia.org/wiki/Callan%E2%80%93Symanzik_equation"
      ],
      "metadata": {
        "nteract": {
          "transient": {
            "deleting": false
          }
        }
      }
    },
    {
      "cell_type": "code",
      "source": [
        "import warnings\n",
        "warnings.filterwarnings(\"ignore\")\n",
        "\n",
        "import numpy as np\n",
        "import pandas as pd\n",
        "import matplotlib.pyplot as plt\n",
        "from scipy.optimize import curve_fit\n",
        "\n",
        "# yahoo finance is used to fetch data \n",
        "import yfinance as yf\n",
        "yf.pdr_override()"
      ],
      "outputs": [],
      "execution_count": 1,
      "metadata": {
        "collapsed": true,
        "jupyter": {
          "source_hidden": false,
          "outputs_hidden": false
        },
        "nteract": {
          "transient": {
            "deleting": false
          }
        },
        "execution": {
          "iopub.status.busy": "2023-05-14T05:16:41.717Z",
          "iopub.execute_input": "2023-05-14T05:16:41.722Z",
          "iopub.status.idle": "2023-05-14T05:16:42.325Z",
          "shell.execute_reply": "2023-05-14T05:16:42.318Z"
        }
      }
    },
    {
      "cell_type": "code",
      "source": [
        "# input\n",
        "symbol = 'AAPL'\n",
        "start = '2018-01-01'\n",
        "end = '2019-01-01'\n",
        "\n",
        "# Read data \n",
        "df = yf.download(symbol,start,end)\n",
        "\n",
        "# View Columns\n",
        "df.head()"
      ],
      "outputs": [
        {
          "output_type": "stream",
          "name": "stdout",
          "text": [
            "[*********************100%***********************]  1 of 1 completed\n"
          ]
        },
        {
          "output_type": "execute_result",
          "execution_count": 2,
          "data": {
            "text/plain": "                 Open       High        Low      Close  Adj Close     Volume\nDate                                                                        \n2018-01-02  42.540001  43.075001  42.314999  43.064999  40.831589  102223600\n2018-01-03  43.132500  43.637501  42.990002  43.057499  40.824478  118071600\n2018-01-04  43.134998  43.367500  43.020000  43.257500  41.014099   89738400\n2018-01-05  43.360001  43.842499  43.262501  43.750000  41.481060   94640000\n2018-01-08  43.587502  43.902500  43.482498  43.587502  41.326996   82271200",
            "text/html": "<div>\n<style scoped>\n    .dataframe tbody tr th:only-of-type {\n        vertical-align: middle;\n    }\n\n    .dataframe tbody tr th {\n        vertical-align: top;\n    }\n\n    .dataframe thead th {\n        text-align: right;\n    }\n</style>\n<table border=\"1\" class=\"dataframe\">\n  <thead>\n    <tr style=\"text-align: right;\">\n      <th></th>\n      <th>Open</th>\n      <th>High</th>\n      <th>Low</th>\n      <th>Close</th>\n      <th>Adj Close</th>\n      <th>Volume</th>\n    </tr>\n    <tr>\n      <th>Date</th>\n      <th></th>\n      <th></th>\n      <th></th>\n      <th></th>\n      <th></th>\n      <th></th>\n    </tr>\n  </thead>\n  <tbody>\n    <tr>\n      <th>2018-01-02</th>\n      <td>42.540001</td>\n      <td>43.075001</td>\n      <td>42.314999</td>\n      <td>43.064999</td>\n      <td>40.831589</td>\n      <td>102223600</td>\n    </tr>\n    <tr>\n      <th>2018-01-03</th>\n      <td>43.132500</td>\n      <td>43.637501</td>\n      <td>42.990002</td>\n      <td>43.057499</td>\n      <td>40.824478</td>\n      <td>118071600</td>\n    </tr>\n    <tr>\n      <th>2018-01-04</th>\n      <td>43.134998</td>\n      <td>43.367500</td>\n      <td>43.020000</td>\n      <td>43.257500</td>\n      <td>41.014099</td>\n      <td>89738400</td>\n    </tr>\n    <tr>\n      <th>2018-01-05</th>\n      <td>43.360001</td>\n      <td>43.842499</td>\n      <td>43.262501</td>\n      <td>43.750000</td>\n      <td>41.481060</td>\n      <td>94640000</td>\n    </tr>\n    <tr>\n      <th>2018-01-08</th>\n      <td>43.587502</td>\n      <td>43.902500</td>\n      <td>43.482498</td>\n      <td>43.587502</td>\n      <td>41.326996</td>\n      <td>82271200</td>\n    </tr>\n  </tbody>\n</table>\n</div>"
          },
          "metadata": {}
        }
      ],
      "execution_count": 2,
      "metadata": {
        "collapsed": true,
        "jupyter": {
          "source_hidden": false,
          "outputs_hidden": false
        },
        "nteract": {
          "transient": {
            "deleting": false
          }
        },
        "execution": {
          "iopub.status.busy": "2023-05-14T05:16:42.335Z",
          "iopub.execute_input": "2023-05-14T05:16:42.339Z",
          "iopub.status.idle": "2023-05-14T05:16:42.690Z",
          "shell.execute_reply": "2023-05-14T05:16:42.768Z"
        }
      }
    },
    {
      "cell_type": "code",
      "source": [
        "df.tail()"
      ],
      "outputs": [
        {
          "output_type": "execute_result",
          "execution_count": 3,
          "data": {
            "text/plain": "                 Open       High        Low      Close  Adj Close     Volume\nDate                                                                        \n2018-12-24  37.037498  37.887501  36.647499  36.707500  35.326309  148676800\n2018-12-26  37.075001  39.307499  36.680000  39.292500  37.814041  234330000\n2018-12-27  38.959999  39.192501  37.517502  39.037498  37.568638  212468400\n2018-12-28  39.375000  39.630001  38.637501  39.057499  37.587894  169165600\n2018-12-31  39.632500  39.840000  39.119999  39.435001  37.951183  140014000",
            "text/html": "<div>\n<style scoped>\n    .dataframe tbody tr th:only-of-type {\n        vertical-align: middle;\n    }\n\n    .dataframe tbody tr th {\n        vertical-align: top;\n    }\n\n    .dataframe thead th {\n        text-align: right;\n    }\n</style>\n<table border=\"1\" class=\"dataframe\">\n  <thead>\n    <tr style=\"text-align: right;\">\n      <th></th>\n      <th>Open</th>\n      <th>High</th>\n      <th>Low</th>\n      <th>Close</th>\n      <th>Adj Close</th>\n      <th>Volume</th>\n    </tr>\n    <tr>\n      <th>Date</th>\n      <th></th>\n      <th></th>\n      <th></th>\n      <th></th>\n      <th></th>\n      <th></th>\n    </tr>\n  </thead>\n  <tbody>\n    <tr>\n      <th>2018-12-24</th>\n      <td>37.037498</td>\n      <td>37.887501</td>\n      <td>36.647499</td>\n      <td>36.707500</td>\n      <td>35.326309</td>\n      <td>148676800</td>\n    </tr>\n    <tr>\n      <th>2018-12-26</th>\n      <td>37.075001</td>\n      <td>39.307499</td>\n      <td>36.680000</td>\n      <td>39.292500</td>\n      <td>37.814041</td>\n      <td>234330000</td>\n    </tr>\n    <tr>\n      <th>2018-12-27</th>\n      <td>38.959999</td>\n      <td>39.192501</td>\n      <td>37.517502</td>\n      <td>39.037498</td>\n      <td>37.568638</td>\n      <td>212468400</td>\n    </tr>\n    <tr>\n      <th>2018-12-28</th>\n      <td>39.375000</td>\n      <td>39.630001</td>\n      <td>38.637501</td>\n      <td>39.057499</td>\n      <td>37.587894</td>\n      <td>169165600</td>\n    </tr>\n    <tr>\n      <th>2018-12-31</th>\n      <td>39.632500</td>\n      <td>39.840000</td>\n      <td>39.119999</td>\n      <td>39.435001</td>\n      <td>37.951183</td>\n      <td>140014000</td>\n    </tr>\n  </tbody>\n</table>\n</div>"
          },
          "metadata": {}
        }
      ],
      "execution_count": 3,
      "metadata": {
        "collapsed": true,
        "jupyter": {
          "source_hidden": false,
          "outputs_hidden": false
        },
        "nteract": {
          "transient": {
            "deleting": false
          }
        },
        "execution": {
          "iopub.status.busy": "2023-05-14T05:16:42.697Z",
          "iopub.execute_input": "2023-05-14T05:16:42.701Z",
          "iopub.status.idle": "2023-05-14T05:16:42.709Z",
          "shell.execute_reply": "2023-05-14T05:16:42.772Z"
        }
      }
    },
    {
      "cell_type": "code",
      "source": [
        "def callan_symanzik(x, a, b, c):\n",
        "    return a * np.exp(b * x) + c\n"
      ],
      "outputs": [],
      "execution_count": 4,
      "metadata": {
        "collapsed": true,
        "jupyter": {
          "source_hidden": false,
          "outputs_hidden": false
        },
        "nteract": {
          "transient": {
            "deleting": false
          }
        },
        "execution": {
          "iopub.status.busy": "2023-05-14T05:16:42.714Z",
          "iopub.execute_input": "2023-05-14T05:16:42.718Z",
          "iopub.status.idle": "2023-05-14T05:16:42.725Z",
          "shell.execute_reply": "2023-05-14T05:16:42.774Z"
        }
      }
    },
    {
      "cell_type": "code",
      "source": [
        "# Extract the adjusted close prices from the stock data\n",
        "prices = df[\"Adj Close\"].values\n",
        "\n",
        "# Generate an array of x values (time index)\n",
        "x = np.arange(len(prices))\n",
        "\n",
        "# Fit the Callan-Symanzik equation to the data\n",
        "popt, pcov = curve_fit(callan_symanzik, x, prices)\n",
        "\n",
        "# Generate y values using the fitted parameters\n",
        "y = callan_symanzik(x, *popt)"
      ],
      "outputs": [],
      "execution_count": 5,
      "metadata": {
        "collapsed": true,
        "jupyter": {
          "source_hidden": false,
          "outputs_hidden": false
        },
        "nteract": {
          "transient": {
            "deleting": false
          }
        },
        "execution": {
          "iopub.status.busy": "2023-05-14T05:16:42.731Z",
          "iopub.execute_input": "2023-05-14T05:16:42.734Z",
          "iopub.status.idle": "2023-05-14T05:16:42.741Z",
          "shell.execute_reply": "2023-05-14T05:16:42.777Z"
        }
      }
    },
    {
      "cell_type": "code",
      "source": [
        "# Plot the original data and the fitted curve\n",
        "plt.plot(x, prices, label=\"Original Data\")\n",
        "plt.plot(x, y, label=\"Fitted Curve\")\n",
        "plt.xlabel(\"Time\")\n",
        "plt.ylabel(\"Adjusted Close Price\")\n",
        "plt.title(f\"Callan-Symanzik Equation for {symbol}\")\n",
        "plt.legend()\n",
        "plt.show()"
      ],
      "outputs": [
        {
          "output_type": "display_data",
          "data": {
            "text/plain": "<Figure size 432x288 with 1 Axes>",
            "image/png": "[encoded data removed]"
          },
          "metadata": {
            "needs_background": "light"
          }
        }
      ],
      "execution_count": 6,
      "metadata": {
        "collapsed": true,
        "jupyter": {
          "source_hidden": false,
          "outputs_hidden": false
        },
        "nteract": {
          "transient": {
            "deleting": false
          }
        },
        "execution": {
          "iopub.status.busy": "2023-05-14T05:16:42.748Z",
          "iopub.execute_input": "2023-05-14T05:16:42.752Z",
          "iopub.status.idle": "2023-05-14T05:16:42.864Z",
          "shell.execute_reply": "2023-05-14T05:16:42.856Z"
        }
      }
    }
  ],
  "metadata": {
    "kernel_info": {
      "name": "python3"
    },
    "language_info": {
      "name": "python",
      "version": "3.7.6",
      "mimetype": "text/x-python",
      "codemirror_mode": {
        "name": "ipython",
        "version": 3
      },
      "pygments_lexer": "ipython3",
      "nbconvert_exporter": "python",
      "file_extension": ".py"
    },
    "kernelspec": {
      "argv": [
        "C:/Users/Tin Hang/Anaconda3\\python.exe",
        "-m",
        "ipykernel_launcher",
        "-f",
        "{connection_file}"
      ],
      "display_name": "Python 3",
      "language": "python",
      "name": "python3"
    },
    "nteract": {
      "version": "0.28.0"
    }
  },
  "nbformat": 4,
  "nbformat_minor": 0
}