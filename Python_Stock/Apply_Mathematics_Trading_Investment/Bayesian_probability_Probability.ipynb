{
  "cells": [
    {
      "cell_type": "markdown",
      "source": [
        "# Bayesian probability"
      ],
      "metadata": {
        "nteract": {
          "transient": {
            "deleting": false
          }
        }
      }
    },
    {
      "cell_type": "markdown",
      "source": [
        "https://en.wikipedia.org/wiki/Bayesian_probability"
      ],
      "metadata": {
        "nteract": {
          "transient": {
            "deleting": false
          }
        }
      }
    },
    {
      "cell_type": "code",
      "source": [
        "import warnings\n",
        "import yfinance as yf\n",
        "import pandas as pd\n",
        "import numpy as np\n",
        "import matplotlib.pyplot as plt\n",
        "import scipy.stats as stats\n",
        "\n",
        "# Input\n",
        "symbol = 'AMD'\n",
        "start = '2020-01-01'\n",
        "end = '2023-01-01'\n",
        "\n",
        "# Read data\n",
        "dataset = yf.download(symbol, start, end)\n",
        "\n",
        "# Prepare data\n",
        "data = dataset['Adj Close'].values\n",
        "\n",
        "# Calculate daily returns\n",
        "returns = np.diff(data) / data[:-1]\n",
        "\n",
        "# Assume returns follow a normal distribution\n",
        "mean_return = np.mean(returns)\n",
        "std_deviation = np.std(returns)\n",
        "\n",
        "# Define a prior belief about future returns (you can adjust this as needed)\n",
        "prior_mean = 0.001  # Your prior belief about the mean return\n",
        "prior_std = 0.01    # Your prior belief about the standard deviation of returns\n",
        "\n",
        "# Bayesian update with new data (e.g., for the next day)\n",
        "new_data = np.random.normal(mean_return, std_deviation)  # Simulated new data point\n",
        "posterior_mean = (prior_mean / prior_std**2 + new_data / std_deviation**2) / (1 / prior_std**2 + 1 / std_deviation**2)\n",
        "posterior_std = np.sqrt(1 / (1 / prior_std**2 + 1 / std_deviation**2))\n",
        "\n",
        "# Calculate the probability of a positive return for the next day\n",
        "probability_positive_return = 1 - stats.norm.cdf(0, loc=posterior_mean, scale=posterior_std)\n",
        "\n",
        "# Plot the posterior distribution\n",
        "x = np.linspace(posterior_mean - 3 * posterior_std, posterior_mean + 3 * posterior_std, 100)\n",
        "y = stats.norm.pdf(x, loc=posterior_mean, scale=posterior_std)\n",
        "plt.plot(x, y)\n",
        "plt.title(\"Posterior Distribution\")\n",
        "plt.xlabel(\"Return\")\n",
        "plt.ylabel(\"Probability Density\")\n",
        "plt.show()\n",
        "\n",
        "print(f\"Estimated Posterior Mean: {posterior_mean}\")\n",
        "print(f\"Estimated Posterior Standard Deviation: {posterior_std}\")\n",
        "print(f\"Probability of Positive Return: {probability_positive_return:.2%}\")"
      ],
      "outputs": [
        {
          "output_type": "stream",
          "name": "stdout",
          "text": [
            "[*********************100%***********************]  1 of 1 completed\n"
          ]
        },
        {
          "output_type": "display_data",
          "data": {
            "text/plain": "<Figure size 432x288 with 1 Axes>",
            "image/png": "[encoded data removed]"
          },
          "metadata": {
            "needs_background": "light"
          }
        },
        {
          "output_type": "stream",
          "name": "stdout",
          "text": [
            "Estimated Posterior Mean: -0.0007062630242561811\n",
            "Estimated Posterior Standard Deviation: 0.009614904650716578\n",
            "Probability of Positive Return: 47.07%\n"
          ]
        }
      ],
      "execution_count": 1,
      "metadata": {
        "collapsed": true,
        "jupyter": {
          "source_hidden": false,
          "outputs_hidden": false
        },
        "nteract": {
          "transient": {
            "deleting": false
          }
        },
        "execution": {
          "iopub.status.busy": "2023-10-22T04:29:29.499Z",
          "iopub.execute_input": "2023-10-22T04:29:29.512Z",
          "iopub.status.idle": "2023-10-22T04:29:30.788Z",
          "shell.execute_reply": "2023-10-22T04:29:30.792Z"
        }
      }
    }
  ],
  "metadata": {
    "kernel_info": {
      "name": "python3"
    },
    "language_info": {
      "name": "python",
      "version": "3.7.6",
      "mimetype": "text/x-python",
      "codemirror_mode": {
        "name": "ipython",
        "version": 3
      },
      "pygments_lexer": "ipython3",
      "nbconvert_exporter": "python",
      "file_extension": ".py"
    },
    "kernelspec": {
      "argv": [
        "C:/Users/Tin Hang/anaconda3\\python.exe",
        "-m",
        "ipykernel_launcher",
        "-f",
        "{connection_file}"
      ],
      "display_name": "Python 3",
      "language": "python",
      "name": "python3"
    },
    "nteract": {
      "version": "0.28.0"
    }
  },
  "nbformat": 4,
  "nbformat_minor": 0
}